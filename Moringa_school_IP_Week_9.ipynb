{
  "nbformat": 4,
  "nbformat_minor": 0,
  "metadata": {
    "colab": {
      "name": "Moringa_school_IP_Week 9",
      "provenance": [],
      "collapsed_sections": [],
      "authorship_tag": "ABX9TyOb1FvyRLTJuKGMfP9B12lG",
      "include_colab_link": true
    },
    "kernelspec": {
      "name": "python3",
      "display_name": "Python 3"
    },
    "language_info": {
      "name": "python"
    }
  },
  "cells": [
    {
      "cell_type": "markdown",
      "metadata": {
        "id": "view-in-github",
        "colab_type": "text"
      },
      "source": [
        "<a href=\"https://colab.research.google.com/github/Stephen-Njuguna/Moringa_school-_IP-_Week-9/blob/main/Moringa_school_IP_Week_9.ipynb\" target=\"_parent\"><img src=\"https://colab.research.google.com/assets/colab-badge.svg\" alt=\"Open In Colab\"/></a>"
      ]
    },
    {
      "cell_type": "markdown",
      "source": [
        "# **Titanic Dataset using KNN**"
      ],
      "metadata": {
        "id": "yy5psjHBgpCO"
      }
    },
    {
      "cell_type": "markdown",
      "source": [
        "## Defining the Question \n",
        "Creating a model that would predict if a passager Survived or died during the titanic tragedy"
      ],
      "metadata": {
        "id": "t2Q9e2u9g-_5"
      }
    },
    {
      "cell_type": "markdown",
      "source": [
        "## Defining Metrics of success\n",
        "\n",
        "\n",
        "Being able to create a model that has an accuracy of more than 70% and can predicts if a passager survived or died in the titanic tragedy"
      ],
      "metadata": {
        "id": "yRYI1YtZiGnv"
      }
    },
    {
      "cell_type": "markdown",
      "source": [
        "## Understanding the Content \n",
        "\n",
        "\n",
        "\n",
        "The RMS Titanic, a luxury steamship, sank in the early hours of April 15, 1912, off the coast of Newfoundland in the North Atlantic after sideswiping an iceberg during its maiden voyage. Of the 2,240 passengers and crew on board, more than 1,500 lost their lives in the disaster"
      ],
      "metadata": {
        "id": "Y1VqvLsLiUFR"
      }
    },
    {
      "cell_type": "markdown",
      "source": [
        "## Recording the Experimental Design\n",
        "1.   Importing the libraries\n",
        "2.   Loading and viewing the dataset\n",
        "3.   Cleaning the data.\n",
        "4.   Univariate analysis\n",
        "5.   Bivariate analysis\n",
        "6.   KNN model\n",
        "7. Conclusion and Recommendation"
      ],
      "metadata": {
        "id": "uThlzFnnil_S"
      }
    },
    {
      "cell_type": "markdown",
      "source": [
        "## Reading Data"
      ],
      "metadata": {
        "id": "ByuzIB6Ri1_Y"
      }
    },
    {
      "cell_type": "code",
      "execution_count": 114,
      "metadata": {
        "id": "AUjdJEJ1giCH"
      },
      "outputs": [],
      "source": [
        "#Import Libraries\n",
        "import pandas as pd\n",
        "import numpy as np\n",
        "import matplotlib.pyplot as plt\n",
        "import seaborn as sns\n",
        "from sklearn import metrics\n",
        "from sklearn.preprocessing import LabelEncoder\n",
        "from sklearn.model_selection import train_test_split\n",
        "from sklearn.neighbors import KNeighborsClassifier\n",
        "# import warnings filter\n",
        "from warnings import simplefilter\n",
        "# ignore all future warnings\n",
        "simplefilter(action='ignore', category=FutureWarning)"
      ]
    },
    {
      "cell_type": "code",
      "source": [
        "#Loading Datasets\n",
        "data = pd.read_csv('titanic_train.csv')"
      ],
      "metadata": {
        "id": "3hYNdG3EkFcD"
      },
      "execution_count": 115,
      "outputs": []
    },
    {
      "cell_type": "markdown",
      "source": [
        "## Checking Data"
      ],
      "metadata": {
        "id": "3avWsjCZmFyK"
      }
    },
    {
      "cell_type": "code",
      "source": [
        "# Determining the no. of records in our dataset\n",
        "#\n",
        "data.shape"
      ],
      "metadata": {
        "colab": {
          "base_uri": "https://localhost:8080/"
        },
        "id": "ek_NEBetmHSk",
        "outputId": "bce466e2-2ecb-47f5-f388-d10a70dd597c"
      },
      "execution_count": 116,
      "outputs": [
        {
          "output_type": "execute_result",
          "data": {
            "text/plain": [
              "(891, 12)"
            ]
          },
          "metadata": {},
          "execution_count": 116
        }
      ]
    },
    {
      "cell_type": "code",
      "source": [
        "# Previewing the Dataset\n",
        "data.head(1)"
      ],
      "metadata": {
        "colab": {
          "base_uri": "https://localhost:8080/",
          "height": 98
        },
        "id": "uCA4sygbmMH8",
        "outputId": "6e20b306-b6f2-4b61-e566-7a5bdf2b0346"
      },
      "execution_count": 117,
      "outputs": [
        {
          "output_type": "execute_result",
          "data": {
            "text/html": [
              "<div>\n",
              "<style scoped>\n",
              "    .dataframe tbody tr th:only-of-type {\n",
              "        vertical-align: middle;\n",
              "    }\n",
              "\n",
              "    .dataframe tbody tr th {\n",
              "        vertical-align: top;\n",
              "    }\n",
              "\n",
              "    .dataframe thead th {\n",
              "        text-align: right;\n",
              "    }\n",
              "</style>\n",
              "<table border=\"1\" class=\"dataframe\">\n",
              "  <thead>\n",
              "    <tr style=\"text-align: right;\">\n",
              "      <th></th>\n",
              "      <th>PassengerId</th>\n",
              "      <th>Survived</th>\n",
              "      <th>Pclass</th>\n",
              "      <th>Name</th>\n",
              "      <th>Sex</th>\n",
              "      <th>Age</th>\n",
              "      <th>SibSp</th>\n",
              "      <th>Parch</th>\n",
              "      <th>Ticket</th>\n",
              "      <th>Fare</th>\n",
              "      <th>Cabin</th>\n",
              "      <th>Embarked</th>\n",
              "    </tr>\n",
              "  </thead>\n",
              "  <tbody>\n",
              "    <tr>\n",
              "      <th>0</th>\n",
              "      <td>1</td>\n",
              "      <td>0</td>\n",
              "      <td>3</td>\n",
              "      <td>Braund, Mr. Owen Harris</td>\n",
              "      <td>male</td>\n",
              "      <td>22.0</td>\n",
              "      <td>1</td>\n",
              "      <td>0</td>\n",
              "      <td>A/5 21171</td>\n",
              "      <td>7.25</td>\n",
              "      <td>NaN</td>\n",
              "      <td>S</td>\n",
              "    </tr>\n",
              "  </tbody>\n",
              "</table>\n",
              "</div>"
            ],
            "text/plain": [
              "   PassengerId  Survived  Pclass  ...  Fare Cabin  Embarked\n",
              "0            1         0       3  ...  7.25   NaN         S\n",
              "\n",
              "[1 rows x 12 columns]"
            ]
          },
          "metadata": {},
          "execution_count": 117
        }
      ]
    },
    {
      "cell_type": "code",
      "source": [
        "#checking dataset information\n",
        "data.info()"
      ],
      "metadata": {
        "colab": {
          "base_uri": "https://localhost:8080/"
        },
        "id": "fB43sn8NmQeN",
        "outputId": "86d1fb0d-cc95-436c-9974-df35d966c425"
      },
      "execution_count": 118,
      "outputs": [
        {
          "output_type": "stream",
          "name": "stdout",
          "text": [
            "<class 'pandas.core.frame.DataFrame'>\n",
            "RangeIndex: 891 entries, 0 to 890\n",
            "Data columns (total 12 columns):\n",
            " #   Column       Non-Null Count  Dtype  \n",
            "---  ------       --------------  -----  \n",
            " 0   PassengerId  891 non-null    int64  \n",
            " 1   Survived     891 non-null    int64  \n",
            " 2   Pclass       891 non-null    int64  \n",
            " 3   Name         891 non-null    object \n",
            " 4   Sex          891 non-null    object \n",
            " 5   Age          714 non-null    float64\n",
            " 6   SibSp        891 non-null    int64  \n",
            " 7   Parch        891 non-null    int64  \n",
            " 8   Ticket       891 non-null    object \n",
            " 9   Fare         891 non-null    float64\n",
            " 10  Cabin        204 non-null    object \n",
            " 11  Embarked     889 non-null    object \n",
            "dtypes: float64(2), int64(5), object(5)\n",
            "memory usage: 83.7+ KB\n"
          ]
        }
      ]
    },
    {
      "cell_type": "markdown",
      "source": [
        "### Define the appropriateness of the available data\n",
        "The dataset provided is appropriate to answer the question because it has all the variables required to predict if a passager survived or died during the titanic tragedy"
      ],
      "metadata": {
        "id": "vp07FWWqmgQG"
      }
    },
    {
      "cell_type": "markdown",
      "source": [
        "## Data Cleaning "
      ],
      "metadata": {
        "id": "tg1_37mnmw3I"
      }
    },
    {
      "cell_type": "code",
      "source": [
        "#Droping columns that are not necessary \n",
        "data.drop(['Name','Ticket'],axis=1,inplace=True)"
      ],
      "metadata": {
        "id": "8Ua0PLg_830v"
      },
      "execution_count": 119,
      "outputs": []
    },
    {
      "cell_type": "code",
      "source": [
        "#Convert catorical data to numeric data \n",
        "en = LabelEncoder()\n",
        "data['Sex'] = en.fit_transform(data['Sex'])\n",
        "data['Embarked'] = en.fit_transform(data['Embarked'])"
      ],
      "metadata": {
        "id": "GZYlouh4rsyz"
      },
      "execution_count": 120,
      "outputs": []
    },
    {
      "cell_type": "code",
      "source": [
        "#checking for outliers \n",
        "data.boxplot(['Survived','Pclass','Sex','Age','SibSp','Parch','Fare',\t'Embarked'],grid=False,figsize= [15,7])"
      ],
      "metadata": {
        "colab": {
          "base_uri": "https://localhost:8080/",
          "height": 491
        },
        "id": "t21tMHltmcz7",
        "outputId": "e23ab682-8fa6-466c-cd4d-4e3b647b6eaa"
      },
      "execution_count": 121,
      "outputs": [
        {
          "output_type": "stream",
          "name": "stderr",
          "text": [
            "/usr/local/lib/python3.7/dist-packages/numpy/core/_asarray.py:83: VisibleDeprecationWarning: Creating an ndarray from ragged nested sequences (which is a list-or-tuple of lists-or-tuples-or ndarrays with different lengths or shapes) is deprecated. If you meant to do this, you must specify 'dtype=object' when creating the ndarray\n",
            "  return array(a, dtype, copy=False, order=order)\n"
          ]
        },
        {
          "output_type": "execute_result",
          "data": {
            "text/plain": [
              "<matplotlib.axes._subplots.AxesSubplot at 0x7f5b095c6510>"
            ]
          },
          "metadata": {},
          "execution_count": 121
        },
        {
          "output_type": "display_data",
          "data": {
            "image/png": "[encoded data removed]",
            "text/plain": [
              "<Figure size 1080x504 with 1 Axes>"
            ]
          },
          "metadata": {
            "needs_background": "light"
          }
        }
      ]
    },
    {
      "cell_type": "markdown",
      "source": [
        "There is an outlier in the fare column. There is a fare of 512.3292, that is very high compared to what other passagers paid in different classes"
      ],
      "metadata": {
        "id": "bTjIMv_Hua3A"
      }
    },
    {
      "cell_type": "code",
      "source": [
        "#Checking for missing values \n",
        "data.isnull().sum()"
      ],
      "metadata": {
        "colab": {
          "base_uri": "https://localhost:8080/"
        },
        "id": "LAXh1khBs0-7",
        "outputId": "479f232c-35b3-4f4a-b335-9f081d416614"
      },
      "execution_count": 122,
      "outputs": [
        {
          "output_type": "execute_result",
          "data": {
            "text/plain": [
              "PassengerId      0\n",
              "Survived         0\n",
              "Pclass           0\n",
              "Sex              0\n",
              "Age            177\n",
              "SibSp            0\n",
              "Parch            0\n",
              "Fare             0\n",
              "Cabin          687\n",
              "Embarked         0\n",
              "dtype: int64"
            ]
          },
          "metadata": {},
          "execution_count": 122
        }
      ]
    },
    {
      "cell_type": "code",
      "source": [
        "#Dealing with missing values\n",
        "#step one drop cabin because over 70% of its data is missing \n",
        "data.drop('Cabin',axis=1,inplace=True)\n",
        "\n",
        "#Step two fill the missing values in age by grouping them by passager Class\n",
        "def age_approx(cols):\n",
        "    Age = cols[0]\n",
        "    Pclass = cols[1]\n",
        "    \n",
        "    if pd.isnull(Age):\n",
        "        if Pclass == 1:\n",
        "            return 37\n",
        "        elif Pclass == 2:\n",
        "            return 29\n",
        "        else:\n",
        "            return 24\n",
        "    else:\n",
        "        return Age\n",
        "data['Age'] = data[['Age', 'Pclass']].apply(age_approx, axis=1)"
      ],
      "metadata": {
        "id": "v9qw5uPDvm-G"
      },
      "execution_count": 123,
      "outputs": []
    },
    {
      "cell_type": "markdown",
      "source": [
        "## Exploratory Data Analysis"
      ],
      "metadata": {
        "id": "-I1LXoOIxg0d"
      }
    },
    {
      "cell_type": "markdown",
      "source": [
        "### Univeriate Analysis"
      ],
      "metadata": {
        "id": "kBcd5-pJxnCA"
      }
    },
    {
      "cell_type": "code",
      "source": [
        "#data Description \n",
        "data.describe()"
      ],
      "metadata": {
        "colab": {
          "base_uri": "https://localhost:8080/",
          "height": 300
        },
        "id": "oEuq_VH2xcuz",
        "outputId": "8eea55c3-3985-4e35-d5a8-34f282e43ca8"
      },
      "execution_count": 124,
      "outputs": [
        {
          "output_type": "execute_result",
          "data": {
            "text/html": [
              "<div>\n",
              "<style scoped>\n",
              "    .dataframe tbody tr th:only-of-type {\n",
              "        vertical-align: middle;\n",
              "    }\n",
              "\n",
              "    .dataframe tbody tr th {\n",
              "        vertical-align: top;\n",
              "    }\n",
              "\n",
              "    .dataframe thead th {\n",
              "        text-align: right;\n",
              "    }\n",
              "</style>\n",
              "<table border=\"1\" class=\"dataframe\">\n",
              "  <thead>\n",
              "    <tr style=\"text-align: right;\">\n",
              "      <th></th>\n",
              "      <th>PassengerId</th>\n",
              "      <th>Survived</th>\n",
              "      <th>Pclass</th>\n",
              "      <th>Sex</th>\n",
              "      <th>Age</th>\n",
              "      <th>SibSp</th>\n",
              "      <th>Parch</th>\n",
              "      <th>Fare</th>\n",
              "      <th>Embarked</th>\n",
              "    </tr>\n",
              "  </thead>\n",
              "  <tbody>\n",
              "    <tr>\n",
              "      <th>count</th>\n",
              "      <td>891.000000</td>\n",
              "      <td>891.000000</td>\n",
              "      <td>891.000000</td>\n",
              "      <td>891.000000</td>\n",
              "      <td>891.000000</td>\n",
              "      <td>891.000000</td>\n",
              "      <td>891.000000</td>\n",
              "      <td>891.000000</td>\n",
              "      <td>891.000000</td>\n",
              "    </tr>\n",
              "    <tr>\n",
              "      <th>mean</th>\n",
              "      <td>446.000000</td>\n",
              "      <td>0.383838</td>\n",
              "      <td>2.308642</td>\n",
              "      <td>0.647587</td>\n",
              "      <td>29.066409</td>\n",
              "      <td>0.523008</td>\n",
              "      <td>0.381594</td>\n",
              "      <td>32.204208</td>\n",
              "      <td>1.538721</td>\n",
              "    </tr>\n",
              "    <tr>\n",
              "      <th>std</th>\n",
              "      <td>257.353842</td>\n",
              "      <td>0.486592</td>\n",
              "      <td>0.836071</td>\n",
              "      <td>0.477990</td>\n",
              "      <td>13.244532</td>\n",
              "      <td>1.102743</td>\n",
              "      <td>0.806057</td>\n",
              "      <td>49.693429</td>\n",
              "      <td>0.794231</td>\n",
              "    </tr>\n",
              "    <tr>\n",
              "      <th>min</th>\n",
              "      <td>1.000000</td>\n",
              "      <td>0.000000</td>\n",
              "      <td>1.000000</td>\n",
              "      <td>0.000000</td>\n",
              "      <td>0.420000</td>\n",
              "      <td>0.000000</td>\n",
              "      <td>0.000000</td>\n",
              "      <td>0.000000</td>\n",
              "      <td>0.000000</td>\n",
              "    </tr>\n",
              "    <tr>\n",
              "      <th>25%</th>\n",
              "      <td>223.500000</td>\n",
              "      <td>0.000000</td>\n",
              "      <td>2.000000</td>\n",
              "      <td>0.000000</td>\n",
              "      <td>22.000000</td>\n",
              "      <td>0.000000</td>\n",
              "      <td>0.000000</td>\n",
              "      <td>7.910400</td>\n",
              "      <td>1.000000</td>\n",
              "    </tr>\n",
              "    <tr>\n",
              "      <th>50%</th>\n",
              "      <td>446.000000</td>\n",
              "      <td>0.000000</td>\n",
              "      <td>3.000000</td>\n",
              "      <td>1.000000</td>\n",
              "      <td>26.000000</td>\n",
              "      <td>0.000000</td>\n",
              "      <td>0.000000</td>\n",
              "      <td>14.454200</td>\n",
              "      <td>2.000000</td>\n",
              "    </tr>\n",
              "    <tr>\n",
              "      <th>75%</th>\n",
              "      <td>668.500000</td>\n",
              "      <td>1.000000</td>\n",
              "      <td>3.000000</td>\n",
              "      <td>1.000000</td>\n",
              "      <td>37.000000</td>\n",
              "      <td>1.000000</td>\n",
              "      <td>0.000000</td>\n",
              "      <td>31.000000</td>\n",
              "      <td>2.000000</td>\n",
              "    </tr>\n",
              "    <tr>\n",
              "      <th>max</th>\n",
              "      <td>891.000000</td>\n",
              "      <td>1.000000</td>\n",
              "      <td>3.000000</td>\n",
              "      <td>1.000000</td>\n",
              "      <td>80.000000</td>\n",
              "      <td>8.000000</td>\n",
              "      <td>6.000000</td>\n",
              "      <td>512.329200</td>\n",
              "      <td>3.000000</td>\n",
              "    </tr>\n",
              "  </tbody>\n",
              "</table>\n",
              "</div>"
            ],
            "text/plain": [
              "       PassengerId    Survived      Pclass  ...       Parch        Fare    Embarked\n",
              "count   891.000000  891.000000  891.000000  ...  891.000000  891.000000  891.000000\n",
              "mean    446.000000    0.383838    2.308642  ...    0.381594   32.204208    1.538721\n",
              "std     257.353842    0.486592    0.836071  ...    0.806057   49.693429    0.794231\n",
              "min       1.000000    0.000000    1.000000  ...    0.000000    0.000000    0.000000\n",
              "25%     223.500000    0.000000    2.000000  ...    0.000000    7.910400    1.000000\n",
              "50%     446.000000    0.000000    3.000000  ...    0.000000   14.454200    2.000000\n",
              "75%     668.500000    1.000000    3.000000  ...    0.000000   31.000000    2.000000\n",
              "max     891.000000    1.000000    3.000000  ...    6.000000  512.329200    3.000000\n",
              "\n",
              "[8 rows x 9 columns]"
            ]
          },
          "metadata": {},
          "execution_count": 124
        }
      ]
    },
    {
      "cell_type": "code",
      "source": [
        "#Check multicolinearity \n",
        "#check for multicollinearity \n",
        "X = data.drop('Survived',axis=1)\n",
        "independent_only = X.corr()\n",
        "#computing the VIF\n",
        "pd.DataFrame(np.linalg.inv(independent_only.values), index = independent_only.index, columns=independent_only.columns)"
      ],
      "metadata": {
        "colab": {
          "base_uri": "https://localhost:8080/",
          "height": 300
        },
        "id": "i86dNTgmyPf6",
        "outputId": "d7f2686d-5876-43b6-da0d-898d11a01422"
      },
      "execution_count": 125,
      "outputs": [
        {
          "output_type": "execute_result",
          "data": {
            "text/html": [
              "<div>\n",
              "<style scoped>\n",
              "    .dataframe tbody tr th:only-of-type {\n",
              "        vertical-align: middle;\n",
              "    }\n",
              "\n",
              "    .dataframe tbody tr th {\n",
              "        vertical-align: top;\n",
              "    }\n",
              "\n",
              "    .dataframe thead th {\n",
              "        text-align: right;\n",
              "    }\n",
              "</style>\n",
              "<table border=\"1\" class=\"dataframe\">\n",
              "  <thead>\n",
              "    <tr style=\"text-align: right;\">\n",
              "      <th></th>\n",
              "      <th>PassengerId</th>\n",
              "      <th>Pclass</th>\n",
              "      <th>Sex</th>\n",
              "      <th>Age</th>\n",
              "      <th>SibSp</th>\n",
              "      <th>Parch</th>\n",
              "      <th>Fare</th>\n",
              "      <th>Embarked</th>\n",
              "    </tr>\n",
              "  </thead>\n",
              "  <tbody>\n",
              "    <tr>\n",
              "      <th>PassengerId</th>\n",
              "      <td>1.007547</td>\n",
              "      <td>0.030520</td>\n",
              "      <td>-0.047992</td>\n",
              "      <td>-0.008975</td>\n",
              "      <td>0.065771</td>\n",
              "      <td>-0.036580</td>\n",
              "      <td>-0.010261</td>\n",
              "      <td>-0.018295</td>\n",
              "    </tr>\n",
              "    <tr>\n",
              "      <th>Pclass</th>\n",
              "      <td>0.030520</td>\n",
              "      <td>1.774931</td>\n",
              "      <td>-0.152173</td>\n",
              "      <td>0.574282</td>\n",
              "      <td>-0.116368</td>\n",
              "      <td>-0.118550</td>\n",
              "      <td>0.910160</td>\n",
              "      <td>-0.045910</td>\n",
              "    </tr>\n",
              "    <tr>\n",
              "      <th>Sex</th>\n",
              "      <td>-0.047992</td>\n",
              "      <td>-0.152173</td>\n",
              "      <td>1.111795</td>\n",
              "      <td>-0.112719</td>\n",
              "      <td>0.004554</td>\n",
              "      <td>0.244788</td>\n",
              "      <td>0.060486</td>\n",
              "      <td>-0.088216</td>\n",
              "    </tr>\n",
              "    <tr>\n",
              "      <th>Age</th>\n",
              "      <td>-0.008975</td>\n",
              "      <td>0.574282</td>\n",
              "      <td>-0.112719</td>\n",
              "      <td>1.301996</td>\n",
              "      <td>0.215613</td>\n",
              "      <td>0.083700</td>\n",
              "      <td>0.065351</td>\n",
              "      <td>-0.072734</td>\n",
              "    </tr>\n",
              "    <tr>\n",
              "      <th>SibSp</th>\n",
              "      <td>0.065771</td>\n",
              "      <td>-0.116368</td>\n",
              "      <td>0.004554</td>\n",
              "      <td>0.215613</td>\n",
              "      <td>1.292986</td>\n",
              "      <td>-0.444015</td>\n",
              "      <td>-0.223210</td>\n",
              "      <td>-0.100147</td>\n",
              "    </tr>\n",
              "    <tr>\n",
              "      <th>Parch</th>\n",
              "      <td>-0.036580</td>\n",
              "      <td>-0.118550</td>\n",
              "      <td>0.244788</td>\n",
              "      <td>0.083700</td>\n",
              "      <td>-0.444015</td>\n",
              "      <td>1.321091</td>\n",
              "      <td>-0.264032</td>\n",
              "      <td>-0.085247</td>\n",
              "    </tr>\n",
              "    <tr>\n",
              "      <th>Fare</th>\n",
              "      <td>-0.010261</td>\n",
              "      <td>0.910160</td>\n",
              "      <td>0.060486</td>\n",
              "      <td>0.065351</td>\n",
              "      <td>-0.223210</td>\n",
              "      <td>-0.264032</td>\n",
              "      <td>1.649275</td>\n",
              "      <td>0.241142</td>\n",
              "    </tr>\n",
              "    <tr>\n",
              "      <th>Embarked</th>\n",
              "      <td>-0.018295</td>\n",
              "      <td>-0.045910</td>\n",
              "      <td>-0.088216</td>\n",
              "      <td>-0.072734</td>\n",
              "      <td>-0.100147</td>\n",
              "      <td>-0.085247</td>\n",
              "      <td>0.241142</td>\n",
              "      <td>1.079431</td>\n",
              "    </tr>\n",
              "  </tbody>\n",
              "</table>\n",
              "</div>"
            ],
            "text/plain": [
              "             PassengerId    Pclass       Sex  ...     Parch      Fare  Embarked\n",
              "PassengerId     1.007547  0.030520 -0.047992  ... -0.036580 -0.010261 -0.018295\n",
              "Pclass          0.030520  1.774931 -0.152173  ... -0.118550  0.910160 -0.045910\n",
              "Sex            -0.047992 -0.152173  1.111795  ...  0.244788  0.060486 -0.088216\n",
              "Age            -0.008975  0.574282 -0.112719  ...  0.083700  0.065351 -0.072734\n",
              "SibSp           0.065771 -0.116368  0.004554  ... -0.444015 -0.223210 -0.100147\n",
              "Parch          -0.036580 -0.118550  0.244788  ...  1.321091 -0.264032 -0.085247\n",
              "Fare           -0.010261  0.910160  0.060486  ... -0.264032  1.649275  0.241142\n",
              "Embarked       -0.018295 -0.045910 -0.088216  ... -0.085247  0.241142  1.079431\n",
              "\n",
              "[8 rows x 8 columns]"
            ]
          },
          "metadata": {},
          "execution_count": 125
        }
      ]
    },
    {
      "cell_type": "markdown",
      "source": [
        "All the independent variables have a VIF score of 1, this means they are no correlated to each other.\n"
      ],
      "metadata": {
        "id": "tG88t7Wl0pss"
      }
    },
    {
      "cell_type": "markdown",
      "source": [
        "### Biavariate Analysis"
      ],
      "metadata": {
        "id": "CpBm4BZ41T5I"
      }
    },
    {
      "cell_type": "code",
      "source": [
        "#Plot a barplot of survived \n",
        "sns.countplot(data['Survived'],hue='Survived',data=data)\n",
        "plt.show()"
      ],
      "metadata": {
        "colab": {
          "base_uri": "https://localhost:8080/",
          "height": 279
        },
        "id": "uTPN1gtF03xq",
        "outputId": "0bad787e-7559-4976-f16a-cffcd60cdf1f"
      },
      "execution_count": 131,
      "outputs": [
        {
          "output_type": "display_data",
          "data": {
            "image/png": "[encoded data removed]",
            "text/plain": [
              "<Figure size 432x288 with 1 Axes>"
            ]
          },
          "metadata": {
            "needs_background": "light"
          }
        }
      ]
    },
    {
      "cell_type": "markdown",
      "source": [
        "Passagers that died during the targedy were more than those that survived "
      ],
      "metadata": {
        "id": "L0Xy3zbe2zJp"
      }
    },
    {
      "cell_type": "code",
      "source": [
        "#Plotting a bar graph of survival per gender \n",
        "sns.countplot(x='Sex', data=data, hue='Survived')\n",
        "data['Sex'] = data['Sex'].map({'female': 0, 'male': 1})\n",
        "plt.show()"
      ],
      "metadata": {
        "colab": {
          "base_uri": "https://localhost:8080/",
          "height": 279
        },
        "id": "Db6eR85-KJzO",
        "outputId": "09a2d3d0-36d2-40ab-bf27-4027c6e4102e"
      },
      "execution_count": 128,
      "outputs": [
        {
          "output_type": "display_data",
          "data": {
            "image/png": "[encoded data removed]",
            "text/plain": [
              "<Figure size 432x288 with 1 Axes>"
            ]
          },
          "metadata": {
            "needs_background": "light"
          }
        }
      ]
    },
    {
      "cell_type": "markdown",
      "source": [
        "More males than females survived"
      ],
      "metadata": {
        "id": "2IXk3TgGLysW"
      }
    },
    {
      "cell_type": "code",
      "source": [
        "#Plot a stacked bar graph of survived aganist other independent varaibles \n",
        "x= data[['Sex','Pclass','Embarked','Parch']]\n",
        "\n",
        "y= x.set_index(data['Survived'])\n",
        "z=y.groupby('Survived').count()\n",
        "z.plot.bar(stacked=True, figsize = [10,7])\n",
        "plt.show()"
      ],
      "metadata": {
        "colab": {
          "base_uri": "https://localhost:8080/",
          "height": 439
        },
        "id": "KaaLGBMGwROe",
        "outputId": "a175435d-00ca-41b8-fc20-282e81320a91"
      },
      "execution_count": 79,
      "outputs": [
        {
          "output_type": "display_data",
          "data": {
            "image/png": "[encoded data removed]",
            "text/plain": [
              "<Figure size 720x504 with 1 Axes>"
            ]
          },
          "metadata": {
            "needs_background": "light"
          }
        }
      ]
    },
    {
      "cell_type": "markdown",
      "source": [
        "There is a high contribution by Sex,Pclass,Embarked,Parch to weather a passager survived or died in the tragedy "
      ],
      "metadata": {
        "id": "_Lv-9g8gxyBE"
      }
    },
    {
      "cell_type": "code",
      "source": [
        "#Plotting a heat map to show correlation between the different variables\n",
        "plt.figure(figsize=(14,10))\n",
        "sns.heatmap(data.corr(),annot=True,cmap=\"Reds\",fmt=\".2f\");\n",
        "plt.show()"
      ],
      "metadata": {
        "colab": {
          "base_uri": "https://localhost:8080/",
          "height": 596
        },
        "id": "_LFM3Uay6MXP",
        "outputId": "2a741c3f-a31e-4347-9393-286aa1fcaae8"
      },
      "execution_count": 80,
      "outputs": [
        {
          "output_type": "display_data",
          "data": {
            "image/png": "[encoded data removed]",
            "text/plain": [
              "<Figure size 1008x720 with 2 Axes>"
            ]
          },
          "metadata": {
            "needs_background": "light"
          }
        }
      ]
    },
    {
      "cell_type": "markdown",
      "source": [
        "Observations from the heat map ;\n",
        "1. There is a weak negative correlation between passagerId and survived\n",
        "2. There is a weak negative correlation between Pclass and survived\n",
        "3. There is a strong negative correlation between sex and survived.\n",
        "4. There is a weak negative correlation between age and survived. "
      ],
      "metadata": {
        "id": "YIyW5NhX6FtX"
      }
    },
    {
      "cell_type": "markdown",
      "source": [
        "### Multivariate Analysis"
      ],
      "metadata": {
        "id": "jGn6Hc_s7vGS"
      }
    },
    {
      "cell_type": "markdown",
      "source": [
        "#### Feature Selection using LDA"
      ],
      "metadata": {
        "id": "1-JtxXeW7wVm"
      }
    },
    {
      "cell_type": "code",
      "source": [
        "# Separating our target label from the other features\n",
        "feat= data.drop(['Survived'], axis= 1)\n",
        "target = data['Survived']\n",
        "\n",
        "#Subject our features to LDA model\n",
        "\n",
        "# Import Linear Discriminant Analysis method from sklearn library\n",
        "from sklearn.discriminant_analysis import LinearDiscriminantAnalysis as LDA\n",
        "\n",
        "# Create an instance of LDA\n",
        "lda = LDA()\n",
        "\n",
        "lda_= lda.fit(feat, target)\n",
        "lda_feat = lda_.transform(feat)\n",
        "\n",
        "# Display the coefficients of the reducted columns\n",
        "lda_.coef_\n",
        "\n",
        "# Since the coefficients are in an array, we need to create a dataframe so \n",
        "#that we can extract the name of the columns\n",
        "\n",
        "f_imp = pd.DataFrame(index=feat.columns.values, data=lda_.coef_[0].T)\n",
        "f_imp.sort_values(0, ascending=True)"
      ],
      "metadata": {
        "colab": {
          "base_uri": "https://localhost:8080/",
          "height": 300
        },
        "id": "ANXcsr-c7sNw",
        "outputId": "8eeae1b4-006f-4119-fae2-cdc30e74cc09"
      },
      "execution_count": 81,
      "outputs": [
        {
          "output_type": "execute_result",
          "data": {
            "text/html": [
              "<div>\n",
              "<style scoped>\n",
              "    .dataframe tbody tr th:only-of-type {\n",
              "        vertical-align: middle;\n",
              "    }\n",
              "\n",
              "    .dataframe tbody tr th {\n",
              "        vertical-align: top;\n",
              "    }\n",
              "\n",
              "    .dataframe thead th {\n",
              "        text-align: right;\n",
              "    }\n",
              "</style>\n",
              "<table border=\"1\" class=\"dataframe\">\n",
              "  <thead>\n",
              "    <tr style=\"text-align: right;\">\n",
              "      <th></th>\n",
              "      <th>0</th>\n",
              "    </tr>\n",
              "  </thead>\n",
              "  <tbody>\n",
              "    <tr>\n",
              "      <th>Sex</th>\n",
              "      <td>-3.554318</td>\n",
              "    </tr>\n",
              "    <tr>\n",
              "      <th>Pclass</th>\n",
              "      <td>-1.263892</td>\n",
              "    </tr>\n",
              "    <tr>\n",
              "      <th>SibSp</th>\n",
              "      <td>-0.299253</td>\n",
              "    </tr>\n",
              "    <tr>\n",
              "      <th>Embarked</th>\n",
              "      <td>-0.218885</td>\n",
              "    </tr>\n",
              "    <tr>\n",
              "      <th>Parch</th>\n",
              "      <td>-0.114985</td>\n",
              "    </tr>\n",
              "    <tr>\n",
              "      <th>Age</th>\n",
              "      <td>-0.043005</td>\n",
              "    </tr>\n",
              "    <tr>\n",
              "      <th>PassengerId</th>\n",
              "      <td>0.000082</td>\n",
              "    </tr>\n",
              "    <tr>\n",
              "      <th>Fare</th>\n",
              "      <td>0.001877</td>\n",
              "    </tr>\n",
              "  </tbody>\n",
              "</table>\n",
              "</div>"
            ],
            "text/plain": [
              "                    0\n",
              "Sex         -3.554318\n",
              "Pclass      -1.263892\n",
              "SibSp       -0.299253\n",
              "Embarked    -0.218885\n",
              "Parch       -0.114985\n",
              "Age         -0.043005\n",
              "PassengerId  0.000082\n",
              "Fare         0.001877"
            ]
          },
          "metadata": {},
          "execution_count": 81
        }
      ]
    },
    {
      "cell_type": "markdown",
      "source": [
        "From LDA the most important feature with a high coeffient to the target variable are [sex,Pclass,SibSp,Embarked,Parch].\n",
        "Feature with the Least coffentient to the target varaible and are less important are [Age,PassengerId,Fare]."
      ],
      "metadata": {
        "id": "uQOqdpa2jY3P"
      }
    },
    {
      "cell_type": "markdown",
      "source": [
        "### K-Nearest Neighbour Algorithm"
      ],
      "metadata": {
        "id": "abA79l97k6FJ"
      }
    },
    {
      "cell_type": "code",
      "source": [
        "#Split the Feature and target variables \n",
        "X =data[['Sex','Pclass','Embarked','Parch',]]\n",
        "y = data['Survived']"
      ],
      "metadata": {
        "id": "QuE9x9ZLj9P4"
      },
      "execution_count": 82,
      "outputs": []
    },
    {
      "cell_type": "code",
      "source": [
        "#split to train and test \n",
        "X_train,X_test,y_train,y_test = train_test_split(X,y,test_size=0.2,random_state=0)"
      ],
      "metadata": {
        "id": "LY7edgW8lqzJ"
      },
      "execution_count": 83,
      "outputs": []
    },
    {
      "cell_type": "code",
      "source": [
        "#import the KNeighborsClassifier class from the sklearn.neighbors library\n",
        "from sklearn.neighbors import KNeighborsClassifier\n",
        "classifier = KNeighborsClassifier(n_neighbors=5)\n",
        "classifier.fit(X_train, y_train)\n",
        "\n",
        "#Make predictions on our test data\n",
        "y_pred = classifier.predict(X_test)\n",
        "\n",
        "#Evaluate model Performance \n",
        "from sklearn.metrics import classification_report, confusion_matrix\n",
        "print(confusion_matrix(y_test, y_pred))\n",
        "print(classification_report(y_test, y_pred))"
      ],
      "metadata": {
        "colab": {
          "base_uri": "https://localhost:8080/"
        },
        "id": "b3L7aP_7qpbT",
        "outputId": "f214a0c5-a5bb-4a1c-cfab-064032525616"
      },
      "execution_count": 84,
      "outputs": [
        {
          "output_type": "stream",
          "name": "stdout",
          "text": [
            "[[98 12]\n",
            " [25 44]]\n",
            "              precision    recall  f1-score   support\n",
            "\n",
            "           0       0.80      0.89      0.84       110\n",
            "           1       0.79      0.64      0.70        69\n",
            "\n",
            "    accuracy                           0.79       179\n",
            "   macro avg       0.79      0.76      0.77       179\n",
            "weighted avg       0.79      0.79      0.79       179\n",
            "\n"
          ]
        }
      ]
    },
    {
      "cell_type": "markdown",
      "source": [
        "*  The model has an accuracy of 79% .\n",
        "*  Confusion matrix ;\n",
        "\n",
        "\n",
        "1.  We have  true negative values of 98\n",
        "2.  We have a false negative of 12\n",
        "3. We have a false postive of 25\n",
        "4. We have a True positive of 44\n"
      ],
      "metadata": {
        "id": "YfLX2KoI2uAW"
      }
    },
    {
      "cell_type": "markdown",
      "source": [
        "#### Repeating with different test and train distributions "
      ],
      "metadata": {
        "id": "baUNKc5Wzsim"
      }
    },
    {
      "cell_type": "markdown",
      "source": [
        "#####  70-30 distribution "
      ],
      "metadata": {
        "id": "-1Sn2Ezaz10N"
      }
    },
    {
      "cell_type": "code",
      "source": [
        "#split to train and test \n",
        "X_train,X_test,y_train,y_test = train_test_split(X,y,test_size=0.3,random_state=0)"
      ],
      "metadata": {
        "id": "QEo-vocazol-"
      },
      "execution_count": 85,
      "outputs": []
    },
    {
      "cell_type": "code",
      "source": [
        "#Fititng the best parameters\n",
        "classifier = KNeighborsClassifier(n_neighbors=5)\n",
        "#Train model \n",
        "classifier.fit(X_train,y_train)\n",
        "#Predict using model \n",
        "Y_pred = classifier.predict(X_test)"
      ],
      "metadata": {
        "id": "6ALu1zfb0FXD"
      },
      "execution_count": 86,
      "outputs": []
    },
    {
      "cell_type": "code",
      "source": [
        "#Evaluate model performance \n",
        "from sklearn.metrics import confusion_matrix\n",
        "print(confusion_matrix(y_test,Y_pred))\n",
        "print(classification_report(y_test, Y_pred))"
      ],
      "metadata": {
        "colab": {
          "base_uri": "https://localhost:8080/"
        },
        "id": "QQbvdgbG0fD0",
        "outputId": "dfca874b-ec90-48e0-c689-e88f7623eba1"
      },
      "execution_count": 87,
      "outputs": [
        {
          "output_type": "stream",
          "name": "stdout",
          "text": [
            "[[157  11]\n",
            " [ 44  56]]\n",
            "              precision    recall  f1-score   support\n",
            "\n",
            "           0       0.78      0.93      0.85       168\n",
            "           1       0.84      0.56      0.67       100\n",
            "\n",
            "    accuracy                           0.79       268\n",
            "   macro avg       0.81      0.75      0.76       268\n",
            "weighted avg       0.80      0.79      0.78       268\n",
            "\n"
          ]
        }
      ]
    },
    {
      "cell_type": "markdown",
      "source": [
        "After change the test- train distribution to 30-70  the model accuracy is 79%\n",
        "*  Confusion matrix ;\n",
        "\n",
        "1.  We have  true negative values of 157\n",
        "2.  We have a false negative of 11\n",
        "3. We have a false postive of 44\n",
        "4. We have a True positive of 56"
      ],
      "metadata": {
        "id": "KJPEJPPV6uSe"
      }
    },
    {
      "cell_type": "markdown",
      "source": [
        "#####  60-40 distribution "
      ],
      "metadata": {
        "id": "NxTDfpa709sF"
      }
    },
    {
      "cell_type": "code",
      "source": [
        "#split to train and test \n",
        "X_train,X_test,y_train,y_test = train_test_split(X,y,test_size=0.4,random_state=0)"
      ],
      "metadata": {
        "id": "U3H7qF4r1Hbv"
      },
      "execution_count": 88,
      "outputs": []
    },
    {
      "cell_type": "code",
      "source": [
        "#Fititng the best parameters\n",
        "classifier = KNeighborsClassifier(n_neighbors=5)\n",
        "#Train model \n",
        "classifier.fit(X_train,y_train)\n",
        "#Predict using model \n",
        "Y_pred = classifier.predict(X_test)"
      ],
      "metadata": {
        "id": "isYJUluH1LM7"
      },
      "execution_count": 89,
      "outputs": []
    },
    {
      "cell_type": "code",
      "source": [
        "#Evaluate model performance \n",
        "from sklearn.metrics import confusion_matrix\n",
        "print(confusion_matrix(y_test,Y_pred))\n",
        "print(classification_report(y_test, Y_pred))"
      ],
      "metadata": {
        "colab": {
          "base_uri": "https://localhost:8080/"
        },
        "id": "6BdjoTwH1MuI",
        "outputId": "4162a084-2c0e-48d7-c514-3fb280667eb9"
      },
      "execution_count": 90,
      "outputs": [
        {
          "output_type": "stream",
          "name": "stdout",
          "text": [
            "[[203  18]\n",
            " [ 53  83]]\n",
            "              precision    recall  f1-score   support\n",
            "\n",
            "           0       0.79      0.92      0.85       221\n",
            "           1       0.82      0.61      0.70       136\n",
            "\n",
            "    accuracy                           0.80       357\n",
            "   macro avg       0.81      0.76      0.78       357\n",
            "weighted avg       0.80      0.80      0.79       357\n",
            "\n"
          ]
        }
      ]
    },
    {
      "cell_type": "markdown",
      "source": [
        "After change the test- train distribution to 40-60  the model accuracy reduced to 80%\n",
        "*  Confusion matrix ;\n",
        "\n",
        "1.  We have  true negative values of 203\n",
        "2.  We have a false negative of 18\n",
        "3. We have a false postive of 53\n",
        "4. We have a True positive of 83"
      ],
      "metadata": {
        "id": "e5vzWx6M1EhI"
      }
    },
    {
      "cell_type": "code",
      "source": [
        "#Model optimazation \n",
        "#split to train and test \n",
        "X_train,X_test,y_train,y_test = train_test_split(X,y,test_size=0.2,random_state=0)\n",
        "\n",
        "#Hyperparameter Tuning using random search \n",
        "from sklearn.model_selection import RandomizedSearchCV\n",
        "from sklearn.model_selection import KFold\n",
        "neighbor_range = np.arange(1, 41)\n",
        "knn = KNeighborsClassifier()\n",
        "\n",
        "params = {'n_neighbors' : neighbor_range,\n",
        "         'weights' : ['uniform', 'distance'],\n",
        "         'metric' : ['manhattan', 'euclidean', 'minkowski']}\n",
        "\n",
        "kfolds = KFold(n_splits = 5)\n",
        "rscv = RandomizedSearchCV(knn, params, random_state = 0)\n",
        "rscv.fit(X_train, y_train)\n",
        "print(\"Best parameters:\", rscv.best_params_)"
      ],
      "metadata": {
        "colab": {
          "base_uri": "https://localhost:8080/"
        },
        "id": "tU70naxuoE4J",
        "outputId": "d6ed7b0b-51c5-4c17-a04d-9ab9558e3ebe"
      },
      "execution_count": 99,
      "outputs": [
        {
          "output_type": "stream",
          "name": "stdout",
          "text": [
            "Best parameters: {'weights': 'distance', 'n_neighbors': 19, 'metric': 'manhattan'}\n"
          ]
        }
      ]
    },
    {
      "cell_type": "code",
      "source": [
        "#Fititng the best parameters\n",
        "knn_b = KNeighborsClassifier(n_neighbors=19, weights='distance',metric='manhattan')\n",
        "#Train model \n",
        "knn_b.fit(X_train,y_train)\n",
        "#Predict using model \n",
        "y_pred = knn_b.predict(X_test)"
      ],
      "metadata": {
        "id": "h9-LVjHfoaBE"
      },
      "execution_count": 100,
      "outputs": []
    },
    {
      "cell_type": "code",
      "source": [
        "#Evaluate model performance \n",
        "from sklearn.metrics import confusion_matrix\n",
        "print(confusion_matrix(y_test,y_pred))\n",
        "print(classification_report(y_test, y_pred))"
      ],
      "metadata": {
        "colab": {
          "base_uri": "https://localhost:8080/"
        },
        "id": "37z2TXqCpEt8",
        "outputId": "f7eeb576-347b-478f-95fe-d91a3e5ee357"
      },
      "execution_count": 101,
      "outputs": [
        {
          "output_type": "stream",
          "name": "stdout",
          "text": [
            "[[101   9]\n",
            " [ 26  43]]\n",
            "              precision    recall  f1-score   support\n",
            "\n",
            "           0       0.80      0.92      0.85       110\n",
            "           1       0.83      0.62      0.71        69\n",
            "\n",
            "    accuracy                           0.80       179\n",
            "   macro avg       0.81      0.77      0.78       179\n",
            "weighted avg       0.81      0.80      0.80       179\n",
            "\n"
          ]
        }
      ]
    },
    {
      "cell_type": "markdown",
      "source": [
        "After performng hyperparameter tuning the accuracy of the model increased\n",
        "*  The model has an accuracy of 80% .\n",
        "*  Confusion matrix ;\n",
        "\n",
        "1.  We have  true negative values of 109\n",
        "2.  We have a false negative of 9\n",
        "3. We have a false postive of 26\n",
        "4. We have a True positive of 43"
      ],
      "metadata": {
        "id": "TpZRFNGl6ZIU"
      }
    }
  ]
}